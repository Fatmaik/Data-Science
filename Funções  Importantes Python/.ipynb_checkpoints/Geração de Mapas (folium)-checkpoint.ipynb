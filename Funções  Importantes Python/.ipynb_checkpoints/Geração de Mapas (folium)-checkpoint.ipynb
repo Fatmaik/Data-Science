{
 "cells": [
  {
   "cell_type": "code",
   "execution_count": 127,
   "metadata": {
    "collapsed": true
   },
   "outputs": [],
   "source": [
    "# O conda não traz o Folium instalado por padrão\n",
    "# conda install -c conda-forge folium\n",
    "\n",
    "# Making a map using the folium module\n",
    "import folium"
   ]
  },
  {
   "cell_type": "code",
   "execution_count": 128,
   "metadata": {
    "collapsed": true
   },
   "outputs": [],
   "source": [
    "location_map = folium.Map()"
   ]
  },
  {
   "cell_type": "code",
   "execution_count": 129,
   "metadata": {
    "collapsed": true,
    "scrolled": true
   },
   "outputs": [],
   "source": [
    "# Top three smart phone companies by market share in 2016\n",
    "Locais_para_me_mudar = [{'loc': [50.4970, -100.000], 'label': '1° Lugar:'},\n",
    "                        {'loc': [37.3318, -80.0000], 'label': '2° Lugar: teste'},\n",
    "                        {'loc': [00.4970, 60.00120], 'label': '3° Lugar: '}\n",
    "                        ]"
   ]
  },
  {
   "cell_type": "code",
   "execution_count": 130,
   "metadata": {
    "scrolled": true
   },
   "outputs": [
    {
     "data": {
      "text/html": [
       "<div style=\"width:100%;\"><div style=\"position:relative;width:100%;height:0;padding-bottom:60%;\"><iframe src=\"data:text/html;charset=utf-8;base64,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\" style=\"position:absolute;width:100%;height:100%;left:0;top:0;border:none !important;\" allowfullscreen webkitallowfullscreen mozallowfullscreen></iframe></div></div>"
      ],
      "text/plain": [
       "<folium.folium.Map at 0x7efedbcbb940>"
      ]
     },
     "execution_count": 130,
     "metadata": {},
     "output_type": "execute_result"
    }
   ],
   "source": [
    "# Adding markers to the map\n",
    "for Loc in Locais:\n",
    "     marker = folium.Marker(location=Loc['loc'], popup=Loc['label'])\n",
    "     marker.add_to(location_map)\n",
    "    \n",
    "# The last object in the cell always gets shown in the notebook\n",
    "location_map"
   ]
  },
  {
   "cell_type": "code",
   "execution_count": null,
   "metadata": {
    "collapsed": true
   },
   "outputs": [],
   "source": []
  },
  {
   "cell_type": "code",
   "execution_count": null,
   "metadata": {
    "collapsed": true
   },
   "outputs": [],
   "source": []
  },
  {
   "cell_type": "code",
   "execution_count": null,
   "metadata": {
    "collapsed": true
   },
   "outputs": [],
   "source": []
  },
  {
   "cell_type": "code",
   "execution_count": null,
   "metadata": {
    "collapsed": true
   },
   "outputs": [],
   "source": []
  },
  {
   "cell_type": "code",
   "execution_count": null,
   "metadata": {
    "collapsed": true
   },
   "outputs": [],
   "source": []
  }
 ],
 "metadata": {
  "kernelspec": {
   "display_name": "Python 3",
   "language": "python",
   "name": "python3"
  },
  "language_info": {
   "codemirror_mode": {
    "name": "ipython",
    "version": 3
   },
   "file_extension": ".py",
   "mimetype": "text/x-python",
   "name": "python",
   "nbconvert_exporter": "python",
   "pygments_lexer": "ipython3",
   "version": "3.6.3"
  }
 },
 "nbformat": 4,
 "nbformat_minor": 2
}
